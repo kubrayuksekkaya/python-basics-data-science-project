{
  "nbformat": 4,
  "nbformat_minor": 0,
  "metadata": {
    "colab": {
      "provenance": [],
      "authorship_tag": "ABX9TyNbKEBGcWeyDAGNGffkk77Y",
      "include_colab_link": true
    },
    "kernelspec": {
      "name": "python3",
      "display_name": "Python 3"
    },
    "language_info": {
      "name": "python"
    }
  },
  "cells": [
    {
      "cell_type": "markdown",
      "metadata": {
        "id": "view-in-github",
        "colab_type": "text"
      },
      "source": [
        "<a href=\"https://colab.research.google.com/github/kubrayuksekkaya/python-basics-data-science-project/blob/main/example_notebook.ipynb\" target=\"_parent\"><img src=\"https://colab.research.google.com/assets/colab-badge.svg\" alt=\"Open In Colab\"/></a>"
      ]
    },
    {
      "cell_type": "markdown",
      "source": [
        "# Air Quality Index (AQI) of Cities with a Population over 750,000\n",
        "## Introduction\n",
        "\n",
        "In this section, we will be analyzing the Air Quality Index (AQI) data of cities with a population over 750,000. We will be using a dataset that contains the population of 5307 cities and the 2022 AQI levels for each of these cities. Our aim is to determine the AQI level of the cities and find the correlation between the AQI level and the population of these cities.\n"
      ],
      "metadata": {
        "id": "9cQPRhJ1CAg3"
      }
    },
    {
      "cell_type": "markdown",
      "source": [
        "## Data Loading and Cleaning\n",
        "First, let's import the required libraries:"
      ],
      "metadata": {
        "id": "SGud3w12Ne7P"
      }
    },
    {
      "cell_type": "code",
      "source": [
        "import pandas as pd\n",
        "import seaborn as sns\n",
        "import matplotlib.pyplot as plt\n",
        "import folium\n",
        "from folium.plugins import MarkerCluster"
      ],
      "metadata": {
        "id": "SwhzjHdxNkAF"
      },
      "execution_count": 4,
      "outputs": []
    },
    {
      "cell_type": "markdown",
      "source": [
        "Next, let's load the city population data and the 2022 AQI data:"
      ],
      "metadata": {
        "id": "OOZ4B0VbNozk"
      }
    },
    {
      "cell_type": "code",
      "source": [
        "# Load the population data of 5307 cities\n",
        "all_cities_data = pd.read_csv(\"population-cities-data.csv\", nrows=5307)\n",
        "capitals = all_cities_data[\"city\"].tolist()\n",
        "\n",
        "# Load the 2022 AQI data of 5307 cities\n",
        "aqi_data_2022 = pd.read_csv(\"air-pollution-rank-cities-2022.csv\", nrows=5307)\n",
        "aqi_city_pop_list = aqi_data_2022['2022_avg'].tolist()"
      ],
      "metadata": {
        "id": "aiaHQFo5Nq8E"
      },
      "execution_count": null,
      "outputs": []
    },
    {
      "cell_type": "markdown",
      "source": [
        "We will create a dictionary data_pop_cities to store the AQI data for the cities with a population over 750,000."
      ],
      "metadata": {
        "id": "rjAfO1haN1mU"
      }
    },
    {
      "cell_type": "code",
      "source": [
        "# Initialize an empty dictionary to store the data\n",
        "data_pop_cities = {}\n",
        "\n",
        "# Zip the lists of cities and AQI data\n",
        "zip_data_city_pop = zip(capitals, aqi_city_pop_list)\n",
        "\n",
        "# Add only the cities that have AQI data to the dictionary\n",
        "for city, aqi in zip_data_city_pop:\n",
        "    if city in all_cities_data['city'].tolist():\n",
        "        data_pop_cities[city] = aqi"
      ],
      "metadata": {
        "id": "pY8qyYIMN2Eg"
      },
      "execution_count": null,
      "outputs": []
    },
    {
      "cell_type": "markdown",
      "source": [
        "## AQI Level Description\n",
        "Let's create a function determine_aqi_level to determine the AQI level description based on the AQI value:"
      ],
      "metadata": {
        "id": "zml0F_TmOGK8"
      }
    },
    {
      "cell_type": "code",
      "source": [
        "def determine_aqi_level(aqi):\n",
        "    if aqi <= 50:\n",
        "        return \"Good\"\n",
        "    elif aqi <= 100:\n",
        "        return \"Moderate\"\n",
        "    elif aqi <= 150:\n",
        "        return \"Unhealthy for Sensitive Groups\"\n",
        "    elif aqi <= 200:\n",
        "        return \"Unhealthy\"\n",
        "    elif aqi <= 300:\n",
        "        return \"Very Unhealthy\"\n",
        "    else:\n",
        "        return \"Hazardous\""
      ],
      "metadata": {
        "id": "_KhXO3CeOIOp"
      },
      "execution_count": null,
      "outputs": []
    },
    {
      "cell_type": "markdown",
      "source": [
        "We will use the function to determine the AQI level description for each city in the data_pop_cities dictionary."
      ],
      "metadata": {
        "id": "bsGEC6p5OPoT"
      }
    },
    {
      "cell_type": "code",
      "source": [
        "# Determine the AQI level description for each city\n",
        "for city, aqi in data_pop_cities.items():\n",
        "    aqi_level = determine_aqi_level(aqi)\n",
        "\n",
        "# Create a list of AQI levels for the cities\n",
        "aqi_levels = [determine_aqi_level(aqi) for city, aqi in data_pop_cities"
      ],
      "metadata": {
        "id": "KDBmEP8zOQNg"
      },
      "execution_count": null,
      "outputs": []
    },
    {
      "cell_type": "markdown",
      "source": [
        "## Correlation between City Population and AQI\n",
        "This section of code is aimed at finding the correlation level between city population and AQI in mostly urban areas.\n",
        "\n",
        "We start by creating a new dataframe from a data dictionary containing city names and AQI values. The population column is then added to the dataframe, and the data types of both population and AQI are ensured to be numeric.\n",
        "\n",
        "Finally, we find the correlation level between population and AQI by using the corr method of the pandas library. The result is then printed as the correlation between AQI level of capital cities and population."
      ],
      "metadata": {
        "id": "gV2K8K6ROUJL"
      }
    },
    {
      "cell_type": "code",
      "source": [
        "# Create a new dataframe from the data dictionary\n",
        "data_pop_cities = list(zip(capitals,\n",
        "                           aqi_city_pop_list))  # Fixing the shape of the data passed to the DataFrame constructor\n",
        "# does not match the shape of the indices and columns specified.\n",
        "df = pd.DataFrame(data_pop_cities, columns=['city', 'aqi'])\n",
        "\n",
        "# Add the population column to the dataframe\n",
        "df['population'] = all_cities_data['pop2023']\n",
        "\n",
        "# Ensure that the data types of the population and AQI columns are numeric\n",
        "df['population'] = df['population'].astype(float)\n",
        "df['aqi'] = df['aqi'].astype(float)\n",
        "\n",
        "# Find the correlation level between population and AQI\n",
        "corr_pop_cities = df['population'].corr(df['aqi'])\n",
        "\n",
        "print(f\"The correlation between AQI Level of capital cities and population is {corr_pop_cities}\")"
      ],
      "metadata": {
        "id": "cxROk7DEQizA"
      },
      "execution_count": null,
      "outputs": []
    },
    {
      "cell_type": "markdown",
      "source": [
        "## Scatter Plot of City Population and AQI\n",
        "This section of code is aimed at creating a scatter plot to visualize the relationship between city population and AQI.\n",
        "\n",
        "We use the scatterplot method from the seaborn library to create a scatter plot of city population (x-axis) and AQI (y-axis) based on the data in the df dataframe.\n",
        "\n",
        "The plot is then adjusted by setting the title, x-label, and y-label. The final step is to display the plot using the show method from the matplotlib library."
      ],
      "metadata": {
        "id": "VRcBoWZ1QpAM"
      }
    },
    {
      "cell_type": "code",
      "source": [
        "# Create a scatter plot\n",
        "sns.scatterplot(x='population', y='aqi', data=df)\n",
        "\n",
        "# Adjust the labels and the title\n",
        "plt.title(\"Scatter plot of city population and AQI\")\n",
        "plt.xlabel(\"Population (in ten millions)\")\n",
        "plt.ylabel(\"AQI\")\n",
        "\n",
        "# Show the plot\n",
        "plt.show()"
      ],
      "metadata": {
        "id": "bF34gkZMQz2g"
      },
      "execution_count": null,
      "outputs": []
    },
    {
      "cell_type": "markdown",
      "source": [
        "## Heatmap of Correlation between City Population and AQI\n",
        "This section of code is aimed at creating a heatmap to visualize the correlation between city population and AQI.\n",
        "\n",
        "We start by creating a correlation dataframe between population and AQI from the data in the df dataframe. This dataframe is then passed to the heatmap method from the seaborn library to create the heatmap.\n",
        "\n",
        "The heatmap is then annotated to display the actual correlation values and is displayed using the show method from the matplotlib library."
      ],
      "metadata": {
        "id": "YIxYCwEFQ-Xz"
      }
    },
    {
      "cell_type": "code",
      "source": [
        "# Create the correlation dataframe\n",
        "corr_pop_cities_2 = df[['population', 'aqi']].corr()\n",
        "\n",
        "# Create the heatmap\n",
        "sns.heatmap(corr_pop_cities_2, annot=True)\n",
        "\n",
        "# Show the plot\n",
        "plt.show()"
      ],
      "metadata": {
        "id": "Vh_b6zCuRRFv"
      },
      "execution_count": null,
      "outputs": []
    },
    {
      "cell_type": "markdown",
      "source": [
        "## Histogram of AQI Levels for Cities\n",
        "This section of code is aimed at creating a histogram to show the distribution of AQI levels for cities with a population over 750,000.\n",
        "\n",
        "We start by creating a dataframe from the AQI levels for the cities, and then pass this dataframe to the countplot method from the seaborn library to create the histogram.\n",
        "\n",
        "The size of the bars and the font size of the labels are adjusted to make the plot more readable. Finally, the plot is displayed using the show method from the matplotlib library."
      ],
      "metadata": {
        "id": "MKce4VdRRc0H"
      }
    },
    {
      "cell_type": "code",
      "source": [
        "# Create a dataframe from the AQI levels for the cities\n",
        "data = {'AQI Level': aqi_levels}\n",
        "df1 = pd.DataFrame(data)\n",
        "\n",
        "# Create the histogram\n",
        "sns.countplot(x='AQI Level', data=df1, width=0.5,\n",
        "              order=[\"Good\", \"Moderate\", \"Unhealthy for Sensitive Groups\", \"Unhealthy\", \"Very Unhealthy\", \"Hazardous\"])\n",
        "\n",
        "# Adjust the size of the bars\n",
        "plt.gcf().set_size_inches(10, 5)\n",
        "\n",
        "# Adjust the font size of the labels\n",
        "plt.xticks(fontsize=7)\n",
        "plt.xlabel(\"AQI Level\", fontsize=15)\n",
        "plt.ylabel(\"Number of Cities\", fontsize=15)\n",
        "plt.title(\"AQI Levels for Cities with population over 750,000\", fontsize=15)\n",
        "\n",
        "# Show plot\n",
        "plt.show()"
      ],
      "metadata": {
        "id": "DgGm78QHRlYo"
      },
      "execution_count": null,
      "outputs": []
    },
    {
      "cell_type": "markdown",
      "source": [],
      "metadata": {
        "id": "a87HndNCRp4Y"
      }
    }
  ]
}